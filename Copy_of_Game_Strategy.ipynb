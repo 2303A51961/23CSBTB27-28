{
  "nbformat": 4,
  "nbformat_minor": 0,
  "metadata": {
    "colab": {
      "provenance": [],
      "authorship_tag": "ABX9TyOHE0SVojHjaf6WzuLkzUA+",
      "include_colab_link": true
    },
    "kernelspec": {
      "name": "python3",
      "display_name": "Python 3"
    },
    "language_info": {
      "name": "python"
    }
  },
  "cells": [
    {
      "cell_type": "markdown",
      "metadata": {
        "id": "view-in-github",
        "colab_type": "text"
      },
      "source": [
        "<a href=\"https://colab.research.google.com/github/2303A51961/23CSBTB27-28/blob/main/Copy_of_Game_Strategy.ipynb\" target=\"_parent\"><img src=\"https://colab.research.google.com/assets/colab-badge.svg\" alt=\"Open In Colab\"/></a>"
      ]
    },
    {
      "cell_type": "markdown",
      "source": [
        " Implement the AI Game Strategy"
      ],
      "metadata": {
        "id": "2fs0XYSo579h"
      }
    },
    {
      "cell_type": "code",
      "source": [
        "class Game:\n",
        "    def actions(self, state ):\n",
        "        \"\"\"Return a collection of the allowable moves from this state .\"\"\"\n",
        "        raise NotImplementedError\n",
        "    def result(self, state , move ):\n",
        "        \"\"\"Return the state that results from making a move from a state .\"\"\"\n",
        "        raise NotImplementedError\n",
        "    def is_terminal (self, state ):\n",
        "        \"\"\"Return True i f this is a final state for the game.\"\"\"\n",
        "        return not self.actions(state)\n",
        "    def utility(self, state , player ):\n",
        "        \"\"\"Return the value of this final state to player .\"\"\"\n",
        "        raise NotImplementedError\n"
      ],
      "metadata": {
        "id": "SdhVQXMV6GsY"
      },
      "execution_count": null,
      "outputs": []
    },
    {
      "cell_type": "markdown",
      "source": [
        "Implement a Player Game using the Game Class Constructor."
      ],
      "metadata": {
        "id": "4Oq98Jct7X_T"
      }
    },
    {
      "cell_type": "code",
      "source": [
        "def play_game (game , strategies : dict , verbose=False ):\n",
        "    \"\"\"Play a turn−taking game. ‘strategies ‘ is a {player name: function} dict ,\n",
        "    where function(state , game) is used to get the player ’s move.\"\"\"\n",
        "    state = game.initial\n",
        "    while not game. is_terminal (state ):\n",
        "        player = state. to_move\n",
        "        move = strategies [player ](game , state)\n",
        "        state = game.result(state , move)\n",
        "        if verbose:\n",
        "            print('Player', player , 'move:', move)\n",
        "            print(state)\n",
        "    return state\n"
      ],
      "metadata": {
        "id": "waxvzD007dG6"
      },
      "execution_count": null,
      "outputs": []
    },
    {
      "cell_type": "markdown",
      "source": [
        "Part 2 – Implement the Game Strategy Algorithms. [CO3]\n",
        "1. Implement the MiniMax Search Algorithm"
      ],
      "metadata": {
        "id": "dxzHv1-S8RIF"
      }
    },
    {
      "cell_type": "code",
      "source": [
        "def minimax_search (game , state ):\n",
        "    \"\"\"Search game tree to determine best move; return (value , move) pair .\"\"\"\n",
        "    player = state. to_move\n",
        "    def max_value (state ):\n",
        "        if game. is_terminal (state ):\n",
        "           return game.utility(state , player), None\n",
        "        v, move = -math.inf , None\n",
        "        for a in game.actions(state ):\n",
        "            v2 , = min_value (game.result(state , a))\n",
        "            if v2 > v:\n",
        "                v, move = v2 , a\n",
        "        return v, move\n",
        "    def min_value (state ):\n",
        "        if game. is_terminal (state ):\n",
        "            return game.utility(state , player), None\n",
        "        v, move = +infinity , None\n",
        "        for a in game.actions(state ):\n",
        "            v2 , = max_value (game.result(state , a))\n",
        "            if v2 < v:\n",
        "                v, move = v2 , a\n",
        "        return v, move\n",
        "        return max_value (state)\n",
        "        infinity = math.inf"
      ],
      "metadata": {
        "id": "gSEPn4O48WLq"
      },
      "execution_count": null,
      "outputs": []
    },
    {
      "cell_type": "markdown",
      "source": [
        "Implement the Alpha-Beta Search Algorithm"
      ],
      "metadata": {
        "id": "xGAan5jI-nvu"
      }
    },
    {
      "cell_type": "code",
      "source": [
        "import math\n",
        "def alphabeta_search (game , state ):\n",
        "  \"\"\"Search game to determine best action ; use alpha−beta pruning.\"\"Search all the way to the leaves .\"\"\"\n",
        "  player = state. to_move\n",
        "def max_value (state , alpha , beta ):\n",
        "  if game. is_terminal (state ):\n",
        "    return game.utility(state , player), None\n",
        "    v, move = _infinity , None\n",
        "    for a in game.actions(state ):\n",
        "      v2 , = min_value (game.result(state , a), alpha , beta)\n",
        "      if v2 > v:\n",
        "        v, move = v2 , a\n",
        "        alpha = max(alpha , v)\n",
        "        if v >= beta:\n",
        "          return v, move\n",
        "          return v, move\n",
        "          def min_value (state , alpha , beta ):\n",
        "            if game. is_terminal (state ):\n",
        "              return game.utility(state , player), None\n",
        "              v, move = +infinity , None\n",
        "              for a in game.actions(state ):\n",
        "                v2 , = max_value (game.result(state , a), alpha , beta)\n",
        "                if v2 < v:\n",
        "                  v, move = v2 , a\n",
        "                  beta = min(beta , v)\n",
        "                  if v <= alpha:\n",
        "                    return v, move\n",
        "                    return v, move\n",
        "                    return max_value (state , _infinity , +infinity )"
      ],
      "metadata": {
        "id": "5CMA7kmn-uyv"
      },
      "execution_count": null,
      "outputs": []
    },
    {
      "cell_type": "markdown",
      "source": [
        "##part3"
      ],
      "metadata": {
        "id": "r-sWi0ebQYb5"
      }
    },
    {
      "cell_type": "code",
      "source": [
        "from collections import defaultdict\n",
        "class Board(defaultdict):\n",
        "  \"\"\"A board has the player to move, a cached ut il ity value ,\n",
        "  and a dict of {(x , y): player} entries , where player is ’X’ or ’O’ .\"\"\"\n",
        "  empty = '.'\n",
        "  off = '#'\n",
        "  def __init__ (self, width =8, height =8, to_move =None , **kwds ):\n",
        "    self. __dict__ .update(width=width , height=height , to_move = to_move , **kwds)\n",
        "    def new(self, changes: dict , **kwds) -> 'Board':\n",
        "      \"Given a dict of {(x, y): contents} changes , return a new Board with the changes.\"\n",
        "      board = Board(width=self.width , height=self.height , **kwds)\n",
        "      board.update(self)\n",
        "      board.update(changes)\n",
        "      return board\n",
        "      def __missing__ (self, loc ):\n",
        "        x, y = loc\n",
        "      if 0 <= x < self.width and 0 <= y < self.height:\n",
        "        return self.empty\n",
        "      else:\n",
        "        return self.off\n",
        "        def __hash__ (self):\n",
        "          return hash(tuple(sorted(self.items ()))) + hash(self. to_move )\n",
        "          def __repr__ (self):\n",
        "            def row(y): return ' '.join(self[x, y] for x in range(self.width ))\n",
        "            return '\\n'.join(map(row , range(self.height ))) + '\\n'\n"
      ],
      "metadata": {
        "id": "kSrLDqs2QkfA"
      },
      "execution_count": null,
      "outputs": []
    },
    {
      "cell_type": "markdown",
      "source": [
        "3. Implement random player(game,state) and player(search algorithm)"
      ],
      "metadata": {
        "id": "nSjKCH1QUeBw"
      }
    },
    {
      "cell_type": "code",
      "source": [
        "def random_player (game , state ): return random.choice(list(game.actions(state )))\n",
        "def player( search_algorithm ):\n",
        "  \"\"\"A game player who uses the specified search algorithm\"\"\"\n",
        "  return lambda game , state: search_algorithm (game , state )[1]"
      ],
      "metadata": {
        "id": "9wLIzAQZUj_X"
      },
      "execution_count": null,
      "outputs": []
    }
  ]
}