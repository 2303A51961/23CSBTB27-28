{
  "nbformat": 4,
  "nbformat_minor": 0,
  "metadata": {
    "colab": {
      "provenance": [],
      "authorship_tag": "ABX9TyNyhlXBMvkAAzzllACIGuPO",
      "include_colab_link": true
    },
    "kernelspec": {
      "name": "python3",
      "display_name": "Python 3"
    },
    "language_info": {
      "name": "python"
    }
  },
  "cells": [
    {
      "cell_type": "markdown",
      "metadata": {
        "id": "view-in-github",
        "colab_type": "text"
      },
      "source": [
        "<a href=\"https://colab.research.google.com/github/2303A51961/23CSBTB27-28/blob/main/Array1.ipynb\" target=\"_parent\"><img src=\"https://colab.research.google.com/assets/colab-badge.svg\" alt=\"Open In Colab\"/></a>"
      ]
    },
    {
      "cell_type": "code",
      "execution_count": null,
      "metadata": {
        "id": "ecWWL0vBjn-U"
      },
      "outputs": [],
      "source": []
    },
    {
      "cell_type": "markdown",
      "source": [
        "##Part 1 – Implement Basic Data Structures using Numpy, Pandas"
      ],
      "metadata": {
        "id": "AiGwYzLNjpeJ"
      }
    },
    {
      "cell_type": "code",
      "source": [
        "import numpy as np\n",
        "List={1,5,2,6,7}\n",
        "List1=[3,6,1,8]\n",
        "print(List)\n",
        "print(List1)\n",
        "print(type(List))\n",
        "print(type(List1))\n",
        "\n"
      ],
      "metadata": {
        "colab": {
          "base_uri": "https://localhost:8080/"
        },
        "id": "rEme8JS_j76g",
        "outputId": "bf94c0b9-aa83-4952-e1c1-64a846f76d91"
      },
      "execution_count": 3,
      "outputs": [
        {
          "output_type": "stream",
          "name": "stdout",
          "text": [
            "{1, 2, 5, 6, 7}\n",
            "[3, 6, 1, 8]\n",
            "<class 'set'>\n",
            "<class 'list'>\n"
          ]
        }
      ]
    },
    {
      "cell_type": "code",
      "source": [
        "List1=[\"Geeks\",\"For\",\"Geeks\"]\n",
        "List2=\"my first lab\"\n",
        "List3=4.3\n",
        "List4=2j+6\n",
        "List5='my first lab'\n",
        "print(type(List2))\n",
        "print(type(List3))\n",
        "print(type(List4))\n",
        "print(type(List5))\n",
        "print(\"\\nList Items:  \")\n",
        "print(List1)\n",
        "print(type(List1))\n",
        "print(List1[0])\n",
        "print(List1[2])\n"
      ],
      "metadata": {
        "colab": {
          "base_uri": "https://localhost:8080/"
        },
        "id": "6lvMM0CIuqQO",
        "outputId": "665aa324-f633-4abc-8207-6fd9e4c9b533"
      },
      "execution_count": 4,
      "outputs": [
        {
          "output_type": "stream",
          "name": "stdout",
          "text": [
            "<class 'str'>\n",
            "<class 'float'>\n",
            "<class 'complex'>\n",
            "<class 'str'>\n",
            "\n",
            "List Items:  \n",
            "['Geeks', 'For', 'Geeks']\n",
            "<class 'list'>\n",
            "Geeks\n",
            "Geeks\n"
          ]
        }
      ]
    },
    {
      "cell_type": "code",
      "source": [
        "import numpy as np\n",
        "arry=np.array([2,5,3,7,3])\n",
        "print(arry)\n",
        "print(type(arry))"
      ],
      "metadata": {
        "colab": {
          "base_uri": "https://localhost:8080/"
        },
        "id": "pvuWrB5PyyU9",
        "outputId": "7e4b0778-de45-4904-8369-e483d86770f1"
      },
      "execution_count": 6,
      "outputs": [
        {
          "output_type": "stream",
          "name": "stdout",
          "text": [
            "[2 5 3 7 3]\n",
            "<class 'numpy.ndarray'>\n"
          ]
        }
      ]
    },
    {
      "cell_type": "code",
      "source": [
        "List = {1:\"greek1\",2:'Geeks', 'For':3,'Geeks':6}\n",
        "print(\"\\nList with the use of Mixed Values: \")\n",
        "print(List)\n",
        "print(type(List))"
      ],
      "metadata": {
        "colab": {
          "base_uri": "https://localhost:8080/"
        },
        "id": "PG-KqEEHxZ8K",
        "outputId": "42e15c38-b5b7-4487-afad-f906096c16c2"
      },
      "execution_count": 5,
      "outputs": [
        {
          "output_type": "stream",
          "name": "stdout",
          "text": [
            "\n",
            "List with the use of Mixed Values: \n",
            "{1: 'greek1', 2: 'Geeks', 'For': 3, 'Geeks': 6}\n",
            "<class 'dict'>\n"
          ]
        }
      ]
    },
    {
      "cell_type": "code",
      "source": [
        "import numpy as np\n",
        "arry=np.array([[2,5],[4,2]])\n",
        "arry1=np.array([[2,5,4,2],[4,2,1,0]])\n",
        "arry2=np.array([[2,5,4],[4,2,5],[6,7,8]])\n",
        "print(arry)\n",
        "print(arry1)\n",
        "print(arry2)"
      ],
      "metadata": {
        "colab": {
          "base_uri": "https://localhost:8080/"
        },
        "id": "_9DBjGsTzIvQ",
        "outputId": "72637ea5-d8d9-4383-e21a-087fb4e65ff8"
      },
      "execution_count": 9,
      "outputs": [
        {
          "output_type": "stream",
          "name": "stdout",
          "text": [
            "[[2 5]\n",
            " [4 2]]\n",
            "[[2 5 4 2]\n",
            " [4 2 1 0]]\n",
            "[[2 5 4]\n",
            " [4 2 5]\n",
            " [6 7 8]]\n"
          ]
        }
      ]
    },
    {
      "cell_type": "code",
      "source": [
        "import numpy as np\n",
        "arry1=np.array([1,3,4,5,6])\n",
        "arry2=np.array([2,6,3,4,8])\n",
        "print(arry1)\n",
        "print(np.add(arry1,arry2))\n",
        "print(np.multiply(arry1,arry2))\n",
        "print(np.subtract(arry2,arry1))\n",
        "print(np.divide(arry2,arry1))\n",
        "print(type(arry1))"
      ],
      "metadata": {
        "colab": {
          "base_uri": "https://localhost:8080/"
        },
        "id": "2CXktTar0QSu",
        "outputId": "b82fc6f4-5b21-4b31-da37-5a32c3f383c7"
      },
      "execution_count": 12,
      "outputs": [
        {
          "output_type": "stream",
          "name": "stdout",
          "text": [
            "[1 3 4 5 6]\n",
            "[ 3  9  7  9 14]\n",
            "[ 2 18 12 20 48]\n",
            "[ 1  3 -1 -1  2]\n",
            "[2.         2.         0.75       0.8        1.33333333]\n",
            "<class 'numpy.ndarray'>\n"
          ]
        }
      ]
    }
  ]
}